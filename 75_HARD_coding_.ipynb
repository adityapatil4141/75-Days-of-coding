{
  "nbformat": 4,
  "nbformat_minor": 0,
  "metadata": {
    "colab": {
      "provenance": [],
      "collapsed_sections": [
        "NYEFqMezM54Z"
      ],
      "authorship_tag": "ABX9TyNa175RbKeBytrS3cKHIANv",
      "include_colab_link": true
    },
    "kernelspec": {
      "name": "python3",
      "display_name": "Python 3"
    },
    "language_info": {
      "name": "python"
    }
  },
  "cells": [
    {
      "cell_type": "markdown",
      "metadata": {
        "id": "view-in-github",
        "colab_type": "text"
      },
      "source": [
        "<a href=\"https://colab.research.google.com/github/adityapatil4141/75-HARD-coding/blob/main/75_HARD_coding_.ipynb\" target=\"_parent\"><img src=\"https://colab.research.google.com/assets/colab-badge.svg\" alt=\"Open In Colab\"/></a>"
      ]
    },
    {
      "cell_type": "code",
      "execution_count": null,
      "metadata": {
        "colab": {
          "base_uri": "https://localhost:8080/"
        },
        "id": "56rqxU-pZu6o",
        "outputId": "4b2e4e0f-d95c-4fa5-a586-2eebb4601094"
      },
      "outputs": [
        {
          "output_type": "stream",
          "name": "stdout",
          "text": [
            "This is 75 HARD CODING CHALLENGE.\n"
          ]
        }
      ],
      "source": [
        "print(\"This is 75 HARD CODING CHALLENGE.\")"
      ]
    },
    {
      "cell_type": "code",
      "source": [
        "print('Here in this Colab NoteBook I will be practising various codes which will include:\\n 1.Python Codes,\\n 2.Data analysis codes,\\n 3.Data analysis techinques,\\n 4.Machine learning models\\n etc... ')"
      ],
      "metadata": {
        "colab": {
          "base_uri": "https://localhost:8080/"
        },
        "id": "qpK_zEFUaL7K",
        "outputId": "80cf37f8-fc0a-491d-8582-37f913925c9e"
      },
      "execution_count": null,
      "outputs": [
        {
          "output_type": "stream",
          "name": "stdout",
          "text": [
            "Here in this Colab NoteBook I will be practising various codes which will include:\n",
            " 1.Python Codes,\n",
            " 2.Data analysis codes,\n",
            " 3.Data analysis techinques,\n",
            " 4.Machine learning models\n",
            " etc... \n"
          ]
        }
      ]
    },
    {
      "cell_type": "code",
      "source": [
        "print(''' Practising codes will be a great exercise as it will grow my logical thinking\n",
        "and will improve handson experience typing codes''' )"
      ],
      "metadata": {
        "colab": {
          "base_uri": "https://localhost:8080/"
        },
        "id": "6OKZMkHPc2te",
        "outputId": "17c31f03-2fd9-4354-ee93-2c6e3285dbd7"
      },
      "execution_count": null,
      "outputs": [
        {
          "output_type": "stream",
          "name": "stdout",
          "text": [
            " Practising codes will be a great exercise as it will grow my logical thinking\n",
            "and will improve handson experience typing codes\n"
          ]
        }
      ]
    },
    {
      "cell_type": "markdown",
      "source": [
        "#Questions On String :"
      ],
      "metadata": {
        "id": "NYEFqMezM54Z"
      }
    },
    {
      "cell_type": "code",
      "source": [
        "# Hello world:\n",
        "print('hello world')"
      ],
      "metadata": {
        "colab": {
          "base_uri": "https://localhost:8080/"
        },
        "id": "kznTAsx9Pp0T",
        "outputId": "8f4491ea-9e0e-4604-bfca-15905fc64ddd"
      },
      "execution_count": null,
      "outputs": [
        {
          "output_type": "stream",
          "name": "stdout",
          "text": [
            "hello world\n"
          ]
        }
      ]
    },
    {
      "cell_type": "code",
      "source": [
        "# Write a Python program to reverse a string.\n",
        "\n",
        "def reverse_string(input_string):\n",
        "    return input_string[::-1]\n"
      ],
      "metadata": {
        "id": "UiLccLWXHFwh"
      },
      "execution_count": null,
      "outputs": []
    },
    {
      "cell_type": "code",
      "source": [
        "reverse_string('hello')"
      ],
      "metadata": {
        "colab": {
          "base_uri": "https://localhost:8080/",
          "height": 35
        },
        "id": "WT0J4CafLSYV",
        "outputId": "df19b06b-b284-4177-8053-9d9212077bec"
      },
      "execution_count": null,
      "outputs": [
        {
          "output_type": "execute_result",
          "data": {
            "text/plain": [
              "'olleh'"
            ],
            "application/vnd.google.colaboratory.intrinsic+json": {
              "type": "string"
            }
          },
          "metadata": {},
          "execution_count": 8
        }
      ]
    },
    {
      "cell_type": "code",
      "source": [
        "# Write a Python program to check if a string is a palindrome.\n",
        "def palindrome_checker(word):\n",
        "  word_reverse = word[::-1]\n",
        "  if word_reverse == word:\n",
        "    print(\"palindrome\")\n",
        "  else:\n",
        "    print(\"not a palindrome\")"
      ],
      "metadata": {
        "id": "7jDizP61Ls68"
      },
      "execution_count": null,
      "outputs": []
    },
    {
      "cell_type": "code",
      "source": [
        "palindrome_checker('nitin')"
      ],
      "metadata": {
        "colab": {
          "base_uri": "https://localhost:8080/"
        },
        "id": "VFwImiZtKydl",
        "outputId": "0bf9a2d3-659f-4f7d-c3a3-121dcf178f5d"
      },
      "execution_count": null,
      "outputs": [
        {
          "output_type": "stream",
          "name": "stdout",
          "text": [
            "palindrome\n"
          ]
        }
      ]
    },
    {
      "cell_type": "code",
      "source": [
        "# Write a Python program to count the number of vowels in a string.\n",
        "def vowels_count(word):\n",
        "  vowles= ['a','e','i','o','u']\n",
        "  count = []\n",
        "  for i in word.lower():\n",
        "    if i in vowles:\n",
        "      count.append(i)\n",
        "\n",
        "\n",
        "  return len(count)\n"
      ],
      "metadata": {
        "id": "FMC9Nqo-NC1r"
      },
      "execution_count": null,
      "outputs": []
    },
    {
      "cell_type": "code",
      "source": [
        "vowels_count('Aditya')"
      ],
      "metadata": {
        "colab": {
          "base_uri": "https://localhost:8080/"
        },
        "id": "o3W7iuYWOGv5",
        "outputId": "452f8d41-f110-4a53-b862-8b6d37a728d3"
      },
      "execution_count": null,
      "outputs": [
        {
          "output_type": "execute_result",
          "data": {
            "text/plain": [
              "3"
            ]
          },
          "metadata": {},
          "execution_count": 24
        }
      ]
    },
    {
      "cell_type": "code",
      "source": [],
      "metadata": {
        "id": "m3L_CczAPdxz"
      },
      "execution_count": null,
      "outputs": []
    },
    {
      "cell_type": "markdown",
      "source": [
        "#  Integers, Floats & Booleans"
      ],
      "metadata": {
        "id": "F6fEBCUcDZKe"
      }
    },
    {
      "cell_type": "markdown",
      "source": [
        "Problem 1:\n",
        "\n",
        "In a cricket tournament, based on the outcome of a particular match a team gets following points:\n",
        "\n",
        "-wins gets 3 points\n",
        "\n",
        "-draws gets 1 points\n",
        "\n",
        "-losses gets 0 points\n",
        "\n",
        "Team Aravali plays 8 matches in this tournament. It wins 4 matches, loses 3 matches and draws 1. What is the total number of points gained by the Team Aravali?"
      ],
      "metadata": {
        "id": "WEfZf2-6Cm1V"
      }
    },
    {
      "cell_type": "code",
      "source": [
        "wins = 3\n",
        "draws = 1\n",
        "looses = 0\n",
        "\n",
        "points_gained = 4*wins + 3*looses + 1*draws\n",
        "print(f\"Points gained by team aravali = {points_gained}\")"
      ],
      "metadata": {
        "colab": {
          "base_uri": "https://localhost:8080/"
        },
        "id": "EVkp7ODBCsPs",
        "outputId": "f8b5527c-5eeb-4011-f041-1891397e41af"
      },
      "execution_count": null,
      "outputs": [
        {
          "output_type": "stream",
          "name": "stdout",
          "text": [
            "Points gained by team aravali = 13\n"
          ]
        }
      ]
    },
    {
      "cell_type": "markdown",
      "source": [
        "Problem 2:\n",
        "\n",
        "Root of a function  𝑓(𝑥)  is defined as the value  𝑥  where  𝑓(𝑥)=0\n",
        "\n",
        "Consider a quadratic function  𝑓(𝑥)=𝑥2+3𝑥−4\n",
        "\n",
        "**Find the value of the function  𝑓(𝑥)  at points  𝑥=2,𝑥=−1,𝑥=1 .**"
      ],
      "metadata": {
        "id": "Yo1TKe1NDbdH"
      }
    },
    {
      "cell_type": "code",
      "source": [
        "x= 2\n",
        "fx_at_2 = x**2 + 3*x - 4\n",
        "print(f'where(x = 2)= {fx_at_2}')\n"
      ],
      "metadata": {
        "colab": {
          "base_uri": "https://localhost:8080/"
        },
        "id": "GfPWa9IODjRf",
        "outputId": "ea45a599-69e8-4333-b8bb-94e230bec4f6"
      },
      "execution_count": null,
      "outputs": [
        {
          "output_type": "stream",
          "name": "stdout",
          "text": [
            "where(x = 2)= 6\n"
          ]
        }
      ]
    },
    {
      "cell_type": "code",
      "source": [
        "x= -1\n",
        "fx_at_minus1 = x**2 + 3*x - 4\n",
        "print(f'where(x = -1)= {fx_at_minus1}')\n"
      ],
      "metadata": {
        "colab": {
          "base_uri": "https://localhost:8080/"
        },
        "id": "nu6MhbGzEO-p",
        "outputId": "f9d01d2c-7018-4cca-f719-58b86a5048a4"
      },
      "execution_count": null,
      "outputs": [
        {
          "output_type": "stream",
          "name": "stdout",
          "text": [
            "where(x = -1)= -6\n"
          ]
        }
      ]
    },
    {
      "cell_type": "code",
      "source": [
        "x= 1\n",
        "fx_at_1 = x**2 + 3*x - 4\n",
        "print(f'where(x = -1)= {fx_at_1}')\n"
      ],
      "metadata": {
        "colab": {
          "base_uri": "https://localhost:8080/"
        },
        "id": "aenhX5hzEW07",
        "outputId": "cf1c7c7f-b15c-4df8-bdba-59ef821bc7ac"
      },
      "execution_count": null,
      "outputs": [
        {
          "output_type": "stream",
          "name": "stdout",
          "text": [
            "where(x = -1)= 0\n"
          ]
        }
      ]
    },
    {
      "cell_type": "markdown",
      "source": [
        "Return the boolean for each value of  𝑥  to find out whether that value is a root of  𝑓(𝑥)"
      ],
      "metadata": {
        "id": "L6F-egNEEtXt"
      }
    },
    {
      "cell_type": "code",
      "source": [
        "fx_at_2==0"
      ],
      "metadata": {
        "colab": {
          "base_uri": "https://localhost:8080/"
        },
        "id": "RC4b03kCE4yb",
        "outputId": "1194b133-5f1f-49e5-d7a5-e679f27b734a"
      },
      "execution_count": null,
      "outputs": [
        {
          "output_type": "execute_result",
          "data": {
            "text/plain": [
              "False"
            ]
          },
          "metadata": {},
          "execution_count": 11
        }
      ]
    },
    {
      "cell_type": "code",
      "source": [
        "fx_at_minus1==0"
      ],
      "metadata": {
        "colab": {
          "base_uri": "https://localhost:8080/"
        },
        "id": "XV_Ean-qE7aR",
        "outputId": "e090d27e-a071-440c-cc4c-9efd0f9fb6ad"
      },
      "execution_count": null,
      "outputs": [
        {
          "output_type": "execute_result",
          "data": {
            "text/plain": [
              "False"
            ]
          },
          "metadata": {},
          "execution_count": 12
        }
      ]
    },
    {
      "cell_type": "code",
      "source": [
        "fx_at_1==0"
      ],
      "metadata": {
        "colab": {
          "base_uri": "https://localhost:8080/"
        },
        "id": "ogr3pLWKE-75",
        "outputId": "e27edd6d-de7b-44b1-ee30-9ac0b2700c8c"
      },
      "execution_count": null,
      "outputs": [
        {
          "output_type": "execute_result",
          "data": {
            "text/plain": [
              "True"
            ]
          },
          "metadata": {},
          "execution_count": 14
        }
      ]
    },
    {
      "cell_type": "markdown",
      "source": [
        "Problem 3\n",
        "\n",
        "A bag contains 45 apples, 65 oranges and 30 bananas. Find the percentage of each type of food items in the bag."
      ],
      "metadata": {
        "id": "9iUdh00TFlFm"
      }
    },
    {
      "cell_type": "code",
      "source": [
        "apples = 45\n",
        "oranges = 65\n",
        "bananas = 30\n"
      ],
      "metadata": {
        "id": "uxGG_ORgFmam"
      },
      "execution_count": null,
      "outputs": []
    },
    {
      "cell_type": "code",
      "source": [
        "# apple perecentage\n",
        "total = apples+oranges+bananas\n",
        "percentage_apples = apples/total*100\n",
        "percentage_apples"
      ],
      "metadata": {
        "colab": {
          "base_uri": "https://localhost:8080/"
        },
        "id": "XAuV7SdzxeCF",
        "outputId": "e350e22f-9f44-489f-a2cc-fd8a24cc0479"
      },
      "execution_count": null,
      "outputs": [
        {
          "output_type": "execute_result",
          "data": {
            "text/plain": [
              "32.142857142857146"
            ]
          },
          "metadata": {},
          "execution_count": 12
        }
      ]
    },
    {
      "cell_type": "code",
      "source": [
        "# Oranges percentage\n",
        "percentage_orange = oranges/total*100\n",
        "percentage_orange"
      ],
      "metadata": {
        "colab": {
          "base_uri": "https://localhost:8080/"
        },
        "id": "Mv-USDxRyNtF",
        "outputId": "c4350e88-8d24-4571-e93a-2be569404727"
      },
      "execution_count": null,
      "outputs": [
        {
          "output_type": "execute_result",
          "data": {
            "text/plain": [
              "46.42857142857143"
            ]
          },
          "metadata": {},
          "execution_count": 13
        }
      ]
    },
    {
      "cell_type": "code",
      "source": [
        "# bananas percentage\n",
        "percentage_banana = bananas/total*100\n",
        "percentage_banana"
      ],
      "metadata": {
        "colab": {
          "base_uri": "https://localhost:8080/"
        },
        "id": "xW-EXUPny1Lx",
        "outputId": "a9a50451-4f27-4708-8296-14bcbda8bcb6"
      },
      "execution_count": null,
      "outputs": [
        {
          "output_type": "execute_result",
          "data": {
            "text/plain": [
              "21.428571428571427"
            ]
          },
          "metadata": {},
          "execution_count": 14
        }
      ]
    },
    {
      "cell_type": "markdown",
      "source": [
        "Problem 4\n",
        "\n",
        "You were playing a fun guessing game during your school break. There were a total of 100 participants excluding you. Out of these 100 people, 30 were Maths Majors, 45 were Economics Majors and 25 were Physics Majors.\n",
        "\n",
        "The game was divided into three rounds.\n",
        "\n",
        "In the first round, you had to guess the number of Maths Majors and you correctly guessed 20 of them.\n",
        "\n",
        "In the second round, you had to guess the number of Economics Majors and you correctly guessed 30 of them.\n",
        "\n",
        "In the final third round, you had to guess the number of Physics Majors and you correctly guessed 20 of them.\n",
        "\n",
        "Accuracy is defined as the number of correct guesses upon total number of people in the group (expressed in percentage)"
      ],
      "metadata": {
        "id": "sFfWcshQzSIV"
      }
    },
    {
      "cell_type": "code",
      "source": [
        "maths_major = 30\n",
        "economics_major = 45\n",
        "physics_major = 25\n",
        "guessed_maths_major = 20\n",
        "guessed_economics_major = 30\n",
        "guessed_physics_major = 20\n",
        "\n",
        "majors = maths_major+economics_major+physics_major\n",
        "correct_guesses = guessed_maths_major+guessed_economics_major+guessed_physics_major\n",
        "\n"
      ],
      "metadata": {
        "id": "w4SaL4MrzZw4"
      },
      "execution_count": null,
      "outputs": []
    },
    {
      "cell_type": "code",
      "source": [
        "# maths accuracy\n",
        "maths_accuracy = guessed_maths_major/maths_major*100\n",
        "maths_accuracy"
      ],
      "metadata": {
        "colab": {
          "base_uri": "https://localhost:8080/"
        },
        "id": "TsJA7jNX0QKx",
        "outputId": "c096d87a-f1bd-4469-9c79-ef0c0c2532a2"
      },
      "execution_count": null,
      "outputs": [
        {
          "output_type": "execute_result",
          "data": {
            "text/plain": [
              "66.66666666666666"
            ]
          },
          "metadata": {},
          "execution_count": 27
        }
      ]
    },
    {
      "cell_type": "code",
      "source": [
        "# physics accuracy\n",
        "physics_accuracy = guessed_physics_major/physics_major*100\n",
        "physics_accuracy"
      ],
      "metadata": {
        "colab": {
          "base_uri": "https://localhost:8080/"
        },
        "id": "CR9bpq4S0W_h",
        "outputId": "2e605134-357c-4cb5-8ed2-9914440e6db3"
      },
      "execution_count": null,
      "outputs": [
        {
          "output_type": "execute_result",
          "data": {
            "text/plain": [
              "80.0"
            ]
          },
          "metadata": {},
          "execution_count": 28
        }
      ]
    },
    {
      "cell_type": "code",
      "source": [
        "# Economics accuracy\n",
        "economics_accuracy = guessed_economics_major/economics_major*100\n",
        "economics_accuracy"
      ],
      "metadata": {
        "colab": {
          "base_uri": "https://localhost:8080/"
        },
        "id": "BgyN_6zZ0jOy",
        "outputId": "3bd74a97-8e8f-428c-ab8d-e62e24d4fa51"
      },
      "execution_count": null,
      "outputs": [
        {
          "output_type": "execute_result",
          "data": {
            "text/plain": [
              "66.66666666666666"
            ]
          },
          "metadata": {},
          "execution_count": 29
        }
      ]
    },
    {
      "cell_type": "code",
      "source": [
        "Total_accuracy = correct_guesses/majors*100\n",
        "Total_accuracy"
      ],
      "metadata": {
        "colab": {
          "base_uri": "https://localhost:8080/"
        },
        "id": "at6D_ZbR1tMb",
        "outputId": "a011a47e-d5b9-4536-a03b-be8f8d09ef86"
      },
      "execution_count": null,
      "outputs": [
        {
          "output_type": "execute_result",
          "data": {
            "text/plain": [
              "70.0"
            ]
          },
          "metadata": {},
          "execution_count": 30
        }
      ]
    },
    {
      "cell_type": "markdown",
      "source": [
        "#Tuples, Sets and Dictionaries."
      ],
      "metadata": {
        "id": "uCVnPArVD5EQ"
      }
    },
    {
      "cell_type": "markdown",
      "source": [
        "Another measure of average\n",
        "\n",
        "Mode is defined as the value that appears most often in a set of data values. Mode corresponds to the most frequent value.\n",
        "You are given a list of numbers and you need to calculate the mode of this list"
      ],
      "metadata": {
        "id": "m5JMSHr2EM-u"
      }
    },
    {
      "cell_type": "code",
      "source": [
        "temperatures = [34, 40, 29, 33, 42, 40, 39, 34, 34,33 ]"
      ],
      "metadata": {
        "id": "eCnjbuscEHMB"
      },
      "execution_count": null,
      "outputs": []
    },
    {
      "cell_type": "code",
      "source": [
        "unique_temp = list(set(temperatures))"
      ],
      "metadata": {
        "id": "E-zuvl8MET0a"
      },
      "execution_count": null,
      "outputs": []
    },
    {
      "cell_type": "code",
      "source": [
        "temp_dict = {}\n",
        "\n",
        "key = unique_temp[0]\n",
        "temp_dict[key] = temperatures.count(key)\n",
        "\n",
        "key = unique_temp[1]\n",
        "temp_dict[key] = temperatures.count(key)\n",
        "\n",
        "key = unique_temp[2]\n",
        "temp_dict[key] = temperatures.count(key)\n",
        "\n",
        "key = unique_temp[3]\n",
        "temp_dict[key] = temperatures.count(key)\n",
        "\n",
        "key = unique_temp[4]\n",
        "temp_dict[key] = temperatures.count(key)\n",
        "\n",
        "key = unique_temp[5]\n",
        "temp_dict[key] = temperatures.count(key)\n",
        "\n",
        "\n"
      ],
      "metadata": {
        "id": "W3NZMUfcGOTZ"
      },
      "execution_count": null,
      "outputs": []
    },
    {
      "cell_type": "code",
      "source": [
        "temp_dict"
      ],
      "metadata": {
        "colab": {
          "base_uri": "https://localhost:8080/"
        },
        "id": "ySdaQQ2HGpoI",
        "outputId": "93c1757f-f887-410f-d232-91b9209e830e"
      },
      "execution_count": null,
      "outputs": [
        {
          "output_type": "execute_result",
          "data": {
            "text/plain": [
              "{33: 2, 34: 3, 39: 1, 40: 2, 42: 1, 29: 1}"
            ]
          },
          "metadata": {},
          "execution_count": 28
        }
      ]
    },
    {
      "cell_type": "code",
      "source": [
        "temp_dict_values = list(temp_dict.values())\n",
        "max_count= max(temp_dict_values)\n",
        "\n",
        "most_frequent_temp_index = temp_dict_values.index(max_count)"
      ],
      "metadata": {
        "id": "YhiHi5YSEsuQ"
      },
      "execution_count": null,
      "outputs": []
    },
    {
      "cell_type": "code",
      "source": [
        "most_frequent_temp_index"
      ],
      "metadata": {
        "colab": {
          "base_uri": "https://localhost:8080/"
        },
        "id": "Bkag4217H6ND",
        "outputId": "caa68971-b223-48e1-d26e-b58064cf5c1e"
      },
      "execution_count": null,
      "outputs": [
        {
          "output_type": "execute_result",
          "data": {
            "text/plain": [
              "1"
            ]
          },
          "metadata": {},
          "execution_count": 30
        }
      ]
    },
    {
      "cell_type": "code",
      "source": [
        "temp_dict_keys = list(temp_dict.keys())\n",
        "\n",
        "# Print the list of dictionary keys\n",
        "print(temp_dict_keys)\n",
        "\n",
        "# Calculate the mode temperature\n",
        "mode_temp =  temp_dict_keys[most_frequent_temp_index]\n",
        "print(f'The mode of the temperatures is {mode_temp}')"
      ],
      "metadata": {
        "colab": {
          "base_uri": "https://localhost:8080/"
        },
        "id": "7boJs7gIHsfO",
        "outputId": "228dace2-b2af-47e9-d2f9-34fbc7d0d059"
      },
      "execution_count": null,
      "outputs": [
        {
          "output_type": "stream",
          "name": "stdout",
          "text": [
            "[33, 34, 39, 40, 42, 29]\n",
            "The mode of the temperatures is 34\n"
          ]
        }
      ]
    },
    {
      "cell_type": "markdown",
      "source": [
        "You are given a list of tuples. You need to replace the last element of the last tuple\n",
        "\n",
        "Expected output : Replace the last element 70 with 100\n",
        "\n",
        "output_list = [(10,20,30),(30,40,50),(50,60,100)]"
      ],
      "metadata": {
        "id": "qKkCIS6lLXr6"
      }
    },
    {
      "cell_type": "code",
      "source": [
        "list_of_tuples = [(10,20,30),(30,40,50),(50,60,70)]\n",
        "a=list_of_tuples[::-1]\n",
        "a.append((50,60,100))\n",
        "print(a)\n",
        "list_of_tuples = [(10,20,30),(30,40,50),(50,60,70)]\n",
        "list_of_tuples[-1]= (50,60,100)\n",
        "print(list_of_tuples)\n"
      ],
      "metadata": {
        "colab": {
          "base_uri": "https://localhost:8080/"
        },
        "id": "kbAqHX1PLeFW",
        "outputId": "8ce56fe8-5383-4e36-e35d-7c55dea3f9ee"
      },
      "execution_count": 1,
      "outputs": [
        {
          "output_type": "stream",
          "name": "stdout",
          "text": [
            "[(50, 60, 70), (30, 40, 50), (10, 20, 30), (50, 60, 100)]\n",
            "[(10, 20, 30), (30, 40, 50), (50, 60, 100)]\n"
          ]
        }
      ]
    },
    {
      "cell_type": "markdown",
      "source": [
        "Natural Language Processing or NLP is one of the most promising fields in Machine Learning. Most of the times in NLP we deal with the textual data (a bunch of strings). Sometimes when we are processing the text, it is a common practice to get rid of some set of stop words from our original text. By default stop words are very common words used in English language such as and, or, punctuations etc.\n",
        "\n",
        "In this exercise, you are provided with a default set of stop words and you need to add some extra set of custom words."
      ],
      "metadata": {
        "id": "G0e67R_t1imR"
      }
    },
    {
      "cell_type": "code",
      "source": [
        "# Default set of stop words\n",
        "stop_words = {\"i\", \"me\", \"my\", \"myself\", \"we\", \"our\", \"ours\", \"ourselves\", \"you\", \"your\", \"yours\", \"yourself\",\n",
        "              \"yourselves\", \"he\", \"him\", \"his\", \"himself\", \"she\", \"her\", \"hers\", \"herself\", \"it\", \"its\", \"itself\",\n",
        "              \"they\", \"them\", \"their\", \"theirs\", \"themselves\", \"what\", \"which\", \"who\", \"whom\", \"this\", \"that\",\n",
        "              \"these\", \"those\", \"am\", \"is\", \"are\", \"was\", \"were\", \"be\", \"been\", \"being\", \"have\", \"has\", \"had\",\n",
        "              \"having\", \"do\", \"does\", \"did\", \"doing\", \"a\", \"an\", \"the\", \"and\", \"but\", \"if\", \"or\", \"because\",\n",
        "              \"as\", \"until\", \"while\", \"of\", \"at\", \"by\", \"for\", \"with\", \"about\", \"against\", \"between\", \"into\",\n",
        "              \"through\", \"during\", \"before\", \"after\", \"above\", \"below\", \"to\", \"from\", \"up\", \"down\", \"in\", \"out\",\n",
        "              \"on\", \"off\", \"over\", \"under\", \"again\", \"further\", \"then\", \"once\", \"here\", \"there\", \"when\", \"where\",\n",
        "              \"why\", \"how\", \"all\", \"any\", \"both\", \"each\", \"few\", \"more\", \"most\", \"other\", \"some\", \"such\", \"no\",\n",
        "              \"nor\", \"not\", \"only\", \"own\", \"same\", \"so\", \"than\", \"too\", \"very\", \"s\", \"t\", \"can\", \"will\", \"just\",\n",
        "              \"don\", \"should\", \"now\"}"
      ],
      "metadata": {
        "id": "W1qtEvx21vs-"
      },
      "execution_count": 2,
      "outputs": []
    },
    {
      "cell_type": "code",
      "source": [
        "sentence = 'Hello, good morning folks! Today we will announce the half yearly performance results of the company. Due to the ongoing COVID-19 pandemic, our profits have declined by 60% as compared to the last half yearly results'\n",
        "custom_stop_words = set([\"hello\",\"good\",\"morning\",\"half\",\"yearly\"])\n",
        "\n",
        "stop_words.update(custom_stop_words)\n",
        "\n",
        "print('hello' in stop_words)\n",
        "print(stop_words)\n",
        "\n",
        "stop_words.intersection(custom_stop_words)\n",
        "\n",
        "print('hello' in stop_words)\n",
        "print(stop_words)\n",
        "\n"
      ],
      "metadata": {
        "colab": {
          "base_uri": "https://localhost:8080/"
        },
        "id": "0cLteKCb1r-G",
        "outputId": "bd0f35cf-e13a-4d13-dd79-4e735b084267"
      },
      "execution_count": 3,
      "outputs": [
        {
          "output_type": "stream",
          "name": "stdout",
          "text": [
            "True\n",
            "{'do', 'other', 'some', 'was', 'too', 'with', 'further', 'his', 'have', 'more', 'when', 'any', 'which', 'few', 'hello', 'theirs', 'a', 'them', 'than', 'myself', 'be', 'itself', 'being', 'those', 'having', 'very', 'once', 'ours', 'can', 'below', 'your', 'while', 'what', 'herself', 'on', 'nor', 'such', 'is', 'him', 'yours', 'to', 'has', 'does', 'here', 'had', 'then', 'by', 'yearly', 'been', 'through', 'just', 'against', 'off', 'over', 'each', 'why', 'will', 'same', 'you', 'he', 'yourself', 'my', 'at', 'where', 'and', 'should', 'their', 'all', 'both', 'me', 'we', 'these', 'themselves', 'the', 'half', 'who', 'of', 'up', 's', 'our', 'as', 'under', 'between', 'were', 'am', 'they', 'down', 'now', 'are', 'ourselves', 'her', 'or', 'yourselves', 'during', 'out', 'for', 'whom', 'this', 'it', 'its', 'did', 't', 'again', 'in', 'most', 'into', 'good', 'own', 'she', 'no', 'an', 'how', 'but', 'if', 'about', 'above', 'i', 'until', 'before', 'that', 'not', 'there', 'himself', 'don', 'so', 'morning', 'doing', 'only', 'because', 'after', 'from', 'hers'}\n",
            "True\n",
            "{'do', 'other', 'some', 'was', 'too', 'with', 'further', 'his', 'have', 'more', 'when', 'any', 'which', 'few', 'hello', 'theirs', 'a', 'them', 'than', 'myself', 'be', 'itself', 'being', 'those', 'having', 'very', 'once', 'ours', 'can', 'below', 'your', 'while', 'what', 'herself', 'on', 'nor', 'such', 'is', 'him', 'yours', 'to', 'has', 'does', 'here', 'had', 'then', 'by', 'yearly', 'been', 'through', 'just', 'against', 'off', 'over', 'each', 'why', 'will', 'same', 'you', 'he', 'yourself', 'my', 'at', 'where', 'and', 'should', 'their', 'all', 'both', 'me', 'we', 'these', 'themselves', 'the', 'half', 'who', 'of', 'up', 's', 'our', 'as', 'under', 'between', 'were', 'am', 'they', 'down', 'now', 'are', 'ourselves', 'her', 'or', 'yourselves', 'during', 'out', 'for', 'whom', 'this', 'it', 'its', 'did', 't', 'again', 'in', 'most', 'into', 'good', 'own', 'she', 'no', 'an', 'how', 'but', 'if', 'about', 'above', 'i', 'until', 'before', 'that', 'not', 'there', 'himself', 'don', 'so', 'morning', 'doing', 'only', 'because', 'after', 'from', 'hers'}\n"
          ]
        }
      ]
    },
    {
      "cell_type": "markdown",
      "source": [],
      "metadata": {
        "id": "b4uZynKU15US"
      }
    }
  ]
}