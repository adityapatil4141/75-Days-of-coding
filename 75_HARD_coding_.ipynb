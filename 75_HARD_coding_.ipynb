{
  "nbformat": 4,
  "nbformat_minor": 0,
  "metadata": {
    "colab": {
      "provenance": [],
      "collapsed_sections": [
        "NYEFqMezM54Z"
      ],
      "authorship_tag": "ABX9TyNB9ozIXbPytIwKelHvVkvx",
      "include_colab_link": true
    },
    "kernelspec": {
      "name": "python3",
      "display_name": "Python 3"
    },
    "language_info": {
      "name": "python"
    }
  },
  "cells": [
    {
      "cell_type": "markdown",
      "metadata": {
        "id": "view-in-github",
        "colab_type": "text"
      },
      "source": [
        "<a href=\"https://colab.research.google.com/github/adityapatil4141/75-HARD-coding/blob/main/75_HARD_coding_.ipynb\" target=\"_parent\"><img src=\"https://colab.research.google.com/assets/colab-badge.svg\" alt=\"Open In Colab\"/></a>"
      ]
    },
    {
      "cell_type": "code",
      "execution_count": null,
      "metadata": {
        "colab": {
          "base_uri": "https://localhost:8080/"
        },
        "id": "56rqxU-pZu6o",
        "outputId": "4b2e4e0f-d95c-4fa5-a586-2eebb4601094"
      },
      "outputs": [
        {
          "output_type": "stream",
          "name": "stdout",
          "text": [
            "This is 75 HARD CODING CHALLENGE.\n"
          ]
        }
      ],
      "source": [
        "print(\"This is 75 HARD CODING CHALLENGE.\")"
      ]
    },
    {
      "cell_type": "code",
      "source": [
        "print('Here in this Colab NoteBook I will be practising various codes which will include:\\n 1.Python Codes,\\n 2.Data analysis codes,\\n 3.Data analysis techinques,\\n 4.Machine learning models\\n etc... ')"
      ],
      "metadata": {
        "colab": {
          "base_uri": "https://localhost:8080/"
        },
        "id": "qpK_zEFUaL7K",
        "outputId": "80cf37f8-fc0a-491d-8582-37f913925c9e"
      },
      "execution_count": null,
      "outputs": [
        {
          "output_type": "stream",
          "name": "stdout",
          "text": [
            "Here in this Colab NoteBook I will be practising various codes which will include:\n",
            " 1.Python Codes,\n",
            " 2.Data analysis codes,\n",
            " 3.Data analysis techinques,\n",
            " 4.Machine learning models\n",
            " etc... \n"
          ]
        }
      ]
    },
    {
      "cell_type": "code",
      "source": [
        "print(''' Practising codes will be a great exercise as it will grow my logical thinking\n",
        "and will improve handson experience typing codes''' )"
      ],
      "metadata": {
        "colab": {
          "base_uri": "https://localhost:8080/"
        },
        "id": "6OKZMkHPc2te",
        "outputId": "17c31f03-2fd9-4354-ee93-2c6e3285dbd7"
      },
      "execution_count": null,
      "outputs": [
        {
          "output_type": "stream",
          "name": "stdout",
          "text": [
            " Practising codes will be a great exercise as it will grow my logical thinking\n",
            "and will improve handson experience typing codes\n"
          ]
        }
      ]
    },
    {
      "cell_type": "markdown",
      "source": [
        "#Questions On String :"
      ],
      "metadata": {
        "id": "NYEFqMezM54Z"
      }
    },
    {
      "cell_type": "code",
      "source": [
        "# Hello world:\n",
        "print('hello world')"
      ],
      "metadata": {
        "colab": {
          "base_uri": "https://localhost:8080/"
        },
        "id": "kznTAsx9Pp0T",
        "outputId": "8f4491ea-9e0e-4604-bfca-15905fc64ddd"
      },
      "execution_count": null,
      "outputs": [
        {
          "output_type": "stream",
          "name": "stdout",
          "text": [
            "hello world\n"
          ]
        }
      ]
    },
    {
      "cell_type": "code",
      "source": [
        "# Write a Python program to reverse a string.\n",
        "\n",
        "def reverse_string(input_string):\n",
        "    return input_string[::-1]\n"
      ],
      "metadata": {
        "id": "UiLccLWXHFwh"
      },
      "execution_count": null,
      "outputs": []
    },
    {
      "cell_type": "code",
      "source": [
        "reverse_string('hello')"
      ],
      "metadata": {
        "colab": {
          "base_uri": "https://localhost:8080/",
          "height": 35
        },
        "id": "WT0J4CafLSYV",
        "outputId": "df19b06b-b284-4177-8053-9d9212077bec"
      },
      "execution_count": null,
      "outputs": [
        {
          "output_type": "execute_result",
          "data": {
            "text/plain": [
              "'olleh'"
            ],
            "application/vnd.google.colaboratory.intrinsic+json": {
              "type": "string"
            }
          },
          "metadata": {},
          "execution_count": 8
        }
      ]
    },
    {
      "cell_type": "code",
      "source": [
        "# Write a Python program to check if a string is a palindrome.\n",
        "def palindrome_checker(word):\n",
        "  word_reverse = word[::-1]\n",
        "  if word_reverse == word:\n",
        "    print(\"palindrome\")\n",
        "  else:\n",
        "    print(\"not a palindrome\")"
      ],
      "metadata": {
        "id": "7jDizP61Ls68"
      },
      "execution_count": null,
      "outputs": []
    },
    {
      "cell_type": "code",
      "source": [
        "palindrome_checker('nitin')"
      ],
      "metadata": {
        "colab": {
          "base_uri": "https://localhost:8080/"
        },
        "id": "VFwImiZtKydl",
        "outputId": "0bf9a2d3-659f-4f7d-c3a3-121dcf178f5d"
      },
      "execution_count": null,
      "outputs": [
        {
          "output_type": "stream",
          "name": "stdout",
          "text": [
            "palindrome\n"
          ]
        }
      ]
    },
    {
      "cell_type": "code",
      "source": [
        "# Write a Python program to count the number of vowels in a string.\n",
        "def vowels_count(word):\n",
        "  vowles= ['a','e','i','o','u']\n",
        "  count = []\n",
        "  for i in word.lower():\n",
        "    if i in vowles:\n",
        "      count.append(i)\n",
        "\n",
        "\n",
        "  return len(count)\n"
      ],
      "metadata": {
        "id": "FMC9Nqo-NC1r"
      },
      "execution_count": null,
      "outputs": []
    },
    {
      "cell_type": "code",
      "source": [
        "vowels_count('Aditya')"
      ],
      "metadata": {
        "colab": {
          "base_uri": "https://localhost:8080/"
        },
        "id": "o3W7iuYWOGv5",
        "outputId": "452f8d41-f110-4a53-b862-8b6d37a728d3"
      },
      "execution_count": null,
      "outputs": [
        {
          "output_type": "execute_result",
          "data": {
            "text/plain": [
              "3"
            ]
          },
          "metadata": {},
          "execution_count": 24
        }
      ]
    },
    {
      "cell_type": "code",
      "source": [],
      "metadata": {
        "id": "m3L_CczAPdxz"
      },
      "execution_count": null,
      "outputs": []
    },
    {
      "cell_type": "markdown",
      "source": [
        "#  Integers, Floats & Booleans"
      ],
      "metadata": {
        "id": "F6fEBCUcDZKe"
      }
    },
    {
      "cell_type": "markdown",
      "source": [
        "Problem 1:\n",
        "\n",
        "In a cricket tournament, based on the outcome of a particular match a team gets following points:\n",
        "\n",
        "-wins gets 3 points\n",
        "\n",
        "-draws gets 1 points\n",
        "\n",
        "-losses gets 0 points\n",
        "\n",
        "Team Aravali plays 8 matches in this tournament. It wins 4 matches, loses 3 matches and draws 1. What is the total number of points gained by the Team Aravali?"
      ],
      "metadata": {
        "id": "WEfZf2-6Cm1V"
      }
    },
    {
      "cell_type": "code",
      "source": [
        "wins = 3\n",
        "draws = 1\n",
        "looses = 0\n",
        "\n",
        "points_gained = 4*wins + 3*looses + 1*draws\n",
        "print(f\"Points gained by team aravali = {points_gained}\")"
      ],
      "metadata": {
        "colab": {
          "base_uri": "https://localhost:8080/"
        },
        "id": "EVkp7ODBCsPs",
        "outputId": "f8b5527c-5eeb-4011-f041-1891397e41af"
      },
      "execution_count": null,
      "outputs": [
        {
          "output_type": "stream",
          "name": "stdout",
          "text": [
            "Points gained by team aravali = 13\n"
          ]
        }
      ]
    },
    {
      "cell_type": "markdown",
      "source": [
        "Problem 2:\n",
        "\n",
        "Root of a function  𝑓(𝑥)  is defined as the value  𝑥  where  𝑓(𝑥)=0\n",
        "\n",
        "Consider a quadratic function  𝑓(𝑥)=𝑥2+3𝑥−4\n",
        "\n",
        "**Find the value of the function  𝑓(𝑥)  at points  𝑥=2,𝑥=−1,𝑥=1 .**"
      ],
      "metadata": {
        "id": "Yo1TKe1NDbdH"
      }
    },
    {
      "cell_type": "code",
      "source": [
        "x= 2\n",
        "fx_at_2 = x**2 + 3*x - 4\n",
        "print(f'where(x = 2)= {fx_at_2}')\n"
      ],
      "metadata": {
        "colab": {
          "base_uri": "https://localhost:8080/"
        },
        "id": "GfPWa9IODjRf",
        "outputId": "ea45a599-69e8-4333-b8bb-94e230bec4f6"
      },
      "execution_count": null,
      "outputs": [
        {
          "output_type": "stream",
          "name": "stdout",
          "text": [
            "where(x = 2)= 6\n"
          ]
        }
      ]
    },
    {
      "cell_type": "code",
      "source": [
        "x= -1\n",
        "fx_at_minus1 = x**2 + 3*x - 4\n",
        "print(f'where(x = -1)= {fx_at_minus1}')\n"
      ],
      "metadata": {
        "colab": {
          "base_uri": "https://localhost:8080/"
        },
        "id": "nu6MhbGzEO-p",
        "outputId": "f9d01d2c-7018-4cca-f719-58b86a5048a4"
      },
      "execution_count": null,
      "outputs": [
        {
          "output_type": "stream",
          "name": "stdout",
          "text": [
            "where(x = -1)= -6\n"
          ]
        }
      ]
    },
    {
      "cell_type": "code",
      "source": [
        "x= 1\n",
        "fx_at_1 = x**2 + 3*x - 4\n",
        "print(f'where(x = -1)= {fx_at_1}')\n"
      ],
      "metadata": {
        "colab": {
          "base_uri": "https://localhost:8080/"
        },
        "id": "aenhX5hzEW07",
        "outputId": "cf1c7c7f-b15c-4df8-bdba-59ef821bc7ac"
      },
      "execution_count": null,
      "outputs": [
        {
          "output_type": "stream",
          "name": "stdout",
          "text": [
            "where(x = -1)= 0\n"
          ]
        }
      ]
    },
    {
      "cell_type": "markdown",
      "source": [
        "Return the boolean for each value of  𝑥  to find out whether that value is a root of  𝑓(𝑥)"
      ],
      "metadata": {
        "id": "L6F-egNEEtXt"
      }
    },
    {
      "cell_type": "code",
      "source": [
        "fx_at_2==0"
      ],
      "metadata": {
        "colab": {
          "base_uri": "https://localhost:8080/"
        },
        "id": "RC4b03kCE4yb",
        "outputId": "1194b133-5f1f-49e5-d7a5-e679f27b734a"
      },
      "execution_count": null,
      "outputs": [
        {
          "output_type": "execute_result",
          "data": {
            "text/plain": [
              "False"
            ]
          },
          "metadata": {},
          "execution_count": 11
        }
      ]
    },
    {
      "cell_type": "code",
      "source": [
        "fx_at_minus1==0"
      ],
      "metadata": {
        "colab": {
          "base_uri": "https://localhost:8080/"
        },
        "id": "XV_Ean-qE7aR",
        "outputId": "e090d27e-a071-440c-cc4c-9efd0f9fb6ad"
      },
      "execution_count": null,
      "outputs": [
        {
          "output_type": "execute_result",
          "data": {
            "text/plain": [
              "False"
            ]
          },
          "metadata": {},
          "execution_count": 12
        }
      ]
    },
    {
      "cell_type": "code",
      "source": [
        "fx_at_1==0"
      ],
      "metadata": {
        "colab": {
          "base_uri": "https://localhost:8080/"
        },
        "id": "ogr3pLWKE-75",
        "outputId": "e27edd6d-de7b-44b1-ee30-9ac0b2700c8c"
      },
      "execution_count": null,
      "outputs": [
        {
          "output_type": "execute_result",
          "data": {
            "text/plain": [
              "True"
            ]
          },
          "metadata": {},
          "execution_count": 14
        }
      ]
    },
    {
      "cell_type": "markdown",
      "source": [
        "Problem 3\n",
        "\n",
        "A bag contains 45 apples, 65 oranges and 30 bananas. Find the percentage of each type of food items in the bag."
      ],
      "metadata": {
        "id": "9iUdh00TFlFm"
      }
    },
    {
      "cell_type": "code",
      "source": [],
      "metadata": {
        "id": "uxGG_ORgFmam"
      },
      "execution_count": null,
      "outputs": []
    }
  ]
}