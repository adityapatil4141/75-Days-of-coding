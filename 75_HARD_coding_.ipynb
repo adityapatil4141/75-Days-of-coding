{
  "nbformat": 4,
  "nbformat_minor": 0,
  "metadata": {
    "colab": {
      "provenance": [],
      "authorship_tag": "ABX9TyPoOZ3ZJnvK8jdlm8xkqLDE",
      "include_colab_link": true
    },
    "kernelspec": {
      "name": "python3",
      "display_name": "Python 3"
    },
    "language_info": {
      "name": "python"
    }
  },
  "cells": [
    {
      "cell_type": "markdown",
      "metadata": {
        "id": "view-in-github",
        "colab_type": "text"
      },
      "source": [
        "<a href=\"https://colab.research.google.com/github/adityapatil4141/75-HARD-coding/blob/main/75_HARD_coding_.ipynb\" target=\"_parent\"><img src=\"https://colab.research.google.com/assets/colab-badge.svg\" alt=\"Open In Colab\"/></a>"
      ]
    },
    {
      "cell_type": "code",
      "execution_count": 1,
      "metadata": {
        "colab": {
          "base_uri": "https://localhost:8080/"
        },
        "id": "56rqxU-pZu6o",
        "outputId": "4b2e4e0f-d95c-4fa5-a586-2eebb4601094"
      },
      "outputs": [
        {
          "output_type": "stream",
          "name": "stdout",
          "text": [
            "This is 75 HARD CODING CHALLENGE.\n"
          ]
        }
      ],
      "source": [
        "print(\"This is 75 HARD CODING CHALLENGE.\")"
      ]
    },
    {
      "cell_type": "code",
      "source": [
        "print('Here in this Colab NoteBook I will be practising various codes which will include:\\n 1.Python Codes,\\n 2.Data analysis codes,\\n 3.Data analysis techinques,\\n 4.Machine learning models\\n etc... ')"
      ],
      "metadata": {
        "colab": {
          "base_uri": "https://localhost:8080/"
        },
        "id": "qpK_zEFUaL7K",
        "outputId": "80cf37f8-fc0a-491d-8582-37f913925c9e"
      },
      "execution_count": 2,
      "outputs": [
        {
          "output_type": "stream",
          "name": "stdout",
          "text": [
            "Here in this Colab NoteBook I will be practising various codes which will include:\n",
            " 1.Python Codes,\n",
            " 2.Data analysis codes,\n",
            " 3.Data analysis techinques,\n",
            " 4.Machine learning models\n",
            " etc... \n"
          ]
        }
      ]
    },
    {
      "cell_type": "code",
      "source": [
        "print(''' Practising codes will be a great exercise as it will grow my logical thinking\n",
        "and will improve handson experience typing codes''' )"
      ],
      "metadata": {
        "colab": {
          "base_uri": "https://localhost:8080/"
        },
        "id": "6OKZMkHPc2te",
        "outputId": "17c31f03-2fd9-4354-ee93-2c6e3285dbd7"
      },
      "execution_count": 3,
      "outputs": [
        {
          "output_type": "stream",
          "name": "stdout",
          "text": [
            " Practising codes will be a great exercise as it will grow my logical thinking\n",
            "and will improve handson experience typing codes\n"
          ]
        }
      ]
    },
    {
      "cell_type": "markdown",
      "source": [
        "#Questions On String :"
      ],
      "metadata": {
        "id": "NYEFqMezM54Z"
      }
    },
    {
      "cell_type": "code",
      "source": [
        "# Hello world:\n",
        "print('hello world')"
      ],
      "metadata": {
        "colab": {
          "base_uri": "https://localhost:8080/"
        },
        "id": "kznTAsx9Pp0T",
        "outputId": "8f4491ea-9e0e-4604-bfca-15905fc64ddd"
      },
      "execution_count": 25,
      "outputs": [
        {
          "output_type": "stream",
          "name": "stdout",
          "text": [
            "hello world\n"
          ]
        }
      ]
    },
    {
      "cell_type": "code",
      "source": [
        "# Write a Python program to reverse a string.\n",
        "\n",
        "def reverse_string(input_string):\n",
        "    return input_string[::-1]\n"
      ],
      "metadata": {
        "id": "UiLccLWXHFwh"
      },
      "execution_count": 6,
      "outputs": []
    },
    {
      "cell_type": "code",
      "source": [
        "reverse_string('hello')"
      ],
      "metadata": {
        "colab": {
          "base_uri": "https://localhost:8080/",
          "height": 35
        },
        "id": "WT0J4CafLSYV",
        "outputId": "df19b06b-b284-4177-8053-9d9212077bec"
      },
      "execution_count": 8,
      "outputs": [
        {
          "output_type": "execute_result",
          "data": {
            "text/plain": [
              "'olleh'"
            ],
            "application/vnd.google.colaboratory.intrinsic+json": {
              "type": "string"
            }
          },
          "metadata": {},
          "execution_count": 8
        }
      ]
    },
    {
      "cell_type": "code",
      "source": [
        "# Write a Python program to check if a string is a palindrome.\n",
        "def palindrome_checker(word):\n",
        "  word_reverse = word[::-1]\n",
        "  if word_reverse == word:\n",
        "    print(\"palindrome\")\n",
        "  else:\n",
        "    print(\"not a palindrome\")"
      ],
      "metadata": {
        "id": "7jDizP61Ls68"
      },
      "execution_count": 12,
      "outputs": []
    },
    {
      "cell_type": "code",
      "source": [
        "palindrome_checker('nitin')"
      ],
      "metadata": {
        "colab": {
          "base_uri": "https://localhost:8080/"
        },
        "id": "VFwImiZtKydl",
        "outputId": "0bf9a2d3-659f-4f7d-c3a3-121dcf178f5d"
      },
      "execution_count": 13,
      "outputs": [
        {
          "output_type": "stream",
          "name": "stdout",
          "text": [
            "palindrome\n"
          ]
        }
      ]
    },
    {
      "cell_type": "code",
      "source": [
        "# Write a Python program to count the number of vowels in a string.\n",
        "def vowels_count(word):\n",
        "  vowles= ['a','e','i','o','u']\n",
        "  count = []\n",
        "  for i in word.lower():\n",
        "    if i in vowles:\n",
        "      count.append(i)\n",
        "\n",
        "\n",
        "  return len(count)\n"
      ],
      "metadata": {
        "id": "FMC9Nqo-NC1r"
      },
      "execution_count": 23,
      "outputs": []
    },
    {
      "cell_type": "code",
      "source": [
        "vowels_count('Aditya')"
      ],
      "metadata": {
        "colab": {
          "base_uri": "https://localhost:8080/"
        },
        "id": "o3W7iuYWOGv5",
        "outputId": "452f8d41-f110-4a53-b862-8b6d37a728d3"
      },
      "execution_count": 24,
      "outputs": [
        {
          "output_type": "execute_result",
          "data": {
            "text/plain": [
              "3"
            ]
          },
          "metadata": {},
          "execution_count": 24
        }
      ]
    },
    {
      "cell_type": "code",
      "source": [],
      "metadata": {
        "id": "m3L_CczAPdxz"
      },
      "execution_count": null,
      "outputs": []
    }
  ]
}