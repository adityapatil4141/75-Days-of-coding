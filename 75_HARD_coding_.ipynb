{
  "nbformat": 4,
  "nbformat_minor": 0,
  "metadata": {
    "colab": {
      "provenance": [],
      "collapsed_sections": [
        "NYEFqMezM54Z"
      ],
      "authorship_tag": "ABX9TyOwONO5oTtMMrwpyRIb/E5g",
      "include_colab_link": true
    },
    "kernelspec": {
      "name": "python3",
      "display_name": "Python 3"
    },
    "language_info": {
      "name": "python"
    }
  },
  "cells": [
    {
      "cell_type": "markdown",
      "metadata": {
        "id": "view-in-github",
        "colab_type": "text"
      },
      "source": [
        "<a href=\"https://colab.research.google.com/github/adityapatil4141/75-HARD-coding/blob/main/75_HARD_coding_.ipynb\" target=\"_parent\"><img src=\"https://colab.research.google.com/assets/colab-badge.svg\" alt=\"Open In Colab\"/></a>"
      ]
    },
    {
      "cell_type": "code",
      "execution_count": null,
      "metadata": {
        "colab": {
          "base_uri": "https://localhost:8080/"
        },
        "id": "56rqxU-pZu6o",
        "outputId": "4b2e4e0f-d95c-4fa5-a586-2eebb4601094"
      },
      "outputs": [
        {
          "output_type": "stream",
          "name": "stdout",
          "text": [
            "This is 75 HARD CODING CHALLENGE.\n"
          ]
        }
      ],
      "source": [
        "print(\"This is 75 HARD CODING CHALLENGE.\")"
      ]
    },
    {
      "cell_type": "code",
      "source": [
        "print('Here in this Colab NoteBook I will be practising various codes which will include:\\n 1.Python Codes,\\n 2.Data analysis codes,\\n 3.Data analysis techinques,\\n 4.Machine learning models\\n etc... ')"
      ],
      "metadata": {
        "colab": {
          "base_uri": "https://localhost:8080/"
        },
        "id": "qpK_zEFUaL7K",
        "outputId": "80cf37f8-fc0a-491d-8582-37f913925c9e"
      },
      "execution_count": null,
      "outputs": [
        {
          "output_type": "stream",
          "name": "stdout",
          "text": [
            "Here in this Colab NoteBook I will be practising various codes which will include:\n",
            " 1.Python Codes,\n",
            " 2.Data analysis codes,\n",
            " 3.Data analysis techinques,\n",
            " 4.Machine learning models\n",
            " etc... \n"
          ]
        }
      ]
    },
    {
      "cell_type": "code",
      "source": [
        "print(''' Practising codes will be a great exercise as it will grow my logical thinking\n",
        "and will improve handson experience typing codes''' )"
      ],
      "metadata": {
        "colab": {
          "base_uri": "https://localhost:8080/"
        },
        "id": "6OKZMkHPc2te",
        "outputId": "17c31f03-2fd9-4354-ee93-2c6e3285dbd7"
      },
      "execution_count": null,
      "outputs": [
        {
          "output_type": "stream",
          "name": "stdout",
          "text": [
            " Practising codes will be a great exercise as it will grow my logical thinking\n",
            "and will improve handson experience typing codes\n"
          ]
        }
      ]
    },
    {
      "cell_type": "markdown",
      "source": [
        "#Questions On String :"
      ],
      "metadata": {
        "id": "NYEFqMezM54Z"
      }
    },
    {
      "cell_type": "code",
      "source": [
        "# Hello world:\n",
        "print('hello world')"
      ],
      "metadata": {
        "colab": {
          "base_uri": "https://localhost:8080/"
        },
        "id": "kznTAsx9Pp0T",
        "outputId": "8f4491ea-9e0e-4604-bfca-15905fc64ddd"
      },
      "execution_count": null,
      "outputs": [
        {
          "output_type": "stream",
          "name": "stdout",
          "text": [
            "hello world\n"
          ]
        }
      ]
    },
    {
      "cell_type": "code",
      "source": [
        "# Write a Python program to reverse a string.\n",
        "\n",
        "def reverse_string(input_string):\n",
        "    return input_string[::-1]\n"
      ],
      "metadata": {
        "id": "UiLccLWXHFwh"
      },
      "execution_count": null,
      "outputs": []
    },
    {
      "cell_type": "code",
      "source": [
        "reverse_string('hello')"
      ],
      "metadata": {
        "colab": {
          "base_uri": "https://localhost:8080/",
          "height": 35
        },
        "id": "WT0J4CafLSYV",
        "outputId": "df19b06b-b284-4177-8053-9d9212077bec"
      },
      "execution_count": null,
      "outputs": [
        {
          "output_type": "execute_result",
          "data": {
            "text/plain": [
              "'olleh'"
            ],
            "application/vnd.google.colaboratory.intrinsic+json": {
              "type": "string"
            }
          },
          "metadata": {},
          "execution_count": 8
        }
      ]
    },
    {
      "cell_type": "code",
      "source": [
        "# Write a Python program to check if a string is a palindrome.\n",
        "def palindrome_checker(word):\n",
        "  word_reverse = word[::-1]\n",
        "  if word_reverse == word:\n",
        "    print(\"palindrome\")\n",
        "  else:\n",
        "    print(\"not a palindrome\")"
      ],
      "metadata": {
        "id": "7jDizP61Ls68"
      },
      "execution_count": null,
      "outputs": []
    },
    {
      "cell_type": "code",
      "source": [
        "palindrome_checker('nitin')"
      ],
      "metadata": {
        "colab": {
          "base_uri": "https://localhost:8080/"
        },
        "id": "VFwImiZtKydl",
        "outputId": "0bf9a2d3-659f-4f7d-c3a3-121dcf178f5d"
      },
      "execution_count": null,
      "outputs": [
        {
          "output_type": "stream",
          "name": "stdout",
          "text": [
            "palindrome\n"
          ]
        }
      ]
    },
    {
      "cell_type": "code",
      "source": [
        "# Write a Python program to count the number of vowels in a string.\n",
        "def vowels_count(word):\n",
        "  vowles= ['a','e','i','o','u']\n",
        "  count = []\n",
        "  for i in word.lower():\n",
        "    if i in vowles:\n",
        "      count.append(i)\n",
        "\n",
        "\n",
        "  return len(count)\n"
      ],
      "metadata": {
        "id": "FMC9Nqo-NC1r"
      },
      "execution_count": null,
      "outputs": []
    },
    {
      "cell_type": "code",
      "source": [
        "vowels_count('Aditya')"
      ],
      "metadata": {
        "colab": {
          "base_uri": "https://localhost:8080/"
        },
        "id": "o3W7iuYWOGv5",
        "outputId": "452f8d41-f110-4a53-b862-8b6d37a728d3"
      },
      "execution_count": null,
      "outputs": [
        {
          "output_type": "execute_result",
          "data": {
            "text/plain": [
              "3"
            ]
          },
          "metadata": {},
          "execution_count": 24
        }
      ]
    },
    {
      "cell_type": "code",
      "source": [],
      "metadata": {
        "id": "m3L_CczAPdxz"
      },
      "execution_count": null,
      "outputs": []
    },
    {
      "cell_type": "markdown",
      "source": [
        "#  Integers, Floats & Booleans"
      ],
      "metadata": {
        "id": "F6fEBCUcDZKe"
      }
    },
    {
      "cell_type": "markdown",
      "source": [
        "Problem 1:\n",
        "\n",
        "In a cricket tournament, based on the outcome of a particular match a team gets following points:\n",
        "\n",
        "-wins gets 3 points\n",
        "\n",
        "-draws gets 1 points\n",
        "\n",
        "-losses gets 0 points\n",
        "\n",
        "Team Aravali plays 8 matches in this tournament. It wins 4 matches, loses 3 matches and draws 1. What is the total number of points gained by the Team Aravali?"
      ],
      "metadata": {
        "id": "WEfZf2-6Cm1V"
      }
    },
    {
      "cell_type": "code",
      "source": [
        "wins = 3\n",
        "draws = 1\n",
        "looses = 0\n",
        "\n",
        "points_gained = 4*wins + 3*looses + 1*draws\n",
        "print(f\"Points gained by team aravali = {points_gained}\")"
      ],
      "metadata": {
        "colab": {
          "base_uri": "https://localhost:8080/"
        },
        "id": "EVkp7ODBCsPs",
        "outputId": "f8b5527c-5eeb-4011-f041-1891397e41af"
      },
      "execution_count": null,
      "outputs": [
        {
          "output_type": "stream",
          "name": "stdout",
          "text": [
            "Points gained by team aravali = 13\n"
          ]
        }
      ]
    },
    {
      "cell_type": "markdown",
      "source": [
        "Problem 2:\n",
        "\n",
        "Root of a function  𝑓(𝑥)  is defined as the value  𝑥  where  𝑓(𝑥)=0\n",
        "\n",
        "Consider a quadratic function  𝑓(𝑥)=𝑥2+3𝑥−4\n",
        "\n",
        "**Find the value of the function  𝑓(𝑥)  at points  𝑥=2,𝑥=−1,𝑥=1 .**"
      ],
      "metadata": {
        "id": "Yo1TKe1NDbdH"
      }
    },
    {
      "cell_type": "code",
      "source": [
        "x= 2\n",
        "fx_at_2 = x**2 + 3*x - 4\n",
        "print(f'where(x = 2)= {fx_at_2}')\n"
      ],
      "metadata": {
        "colab": {
          "base_uri": "https://localhost:8080/"
        },
        "id": "GfPWa9IODjRf",
        "outputId": "ea45a599-69e8-4333-b8bb-94e230bec4f6"
      },
      "execution_count": null,
      "outputs": [
        {
          "output_type": "stream",
          "name": "stdout",
          "text": [
            "where(x = 2)= 6\n"
          ]
        }
      ]
    },
    {
      "cell_type": "code",
      "source": [
        "x= -1\n",
        "fx_at_minus1 = x**2 + 3*x - 4\n",
        "print(f'where(x = -1)= {fx_at_minus1}')\n"
      ],
      "metadata": {
        "colab": {
          "base_uri": "https://localhost:8080/"
        },
        "id": "nu6MhbGzEO-p",
        "outputId": "f9d01d2c-7018-4cca-f719-58b86a5048a4"
      },
      "execution_count": null,
      "outputs": [
        {
          "output_type": "stream",
          "name": "stdout",
          "text": [
            "where(x = -1)= -6\n"
          ]
        }
      ]
    },
    {
      "cell_type": "code",
      "source": [
        "x= 1\n",
        "fx_at_1 = x**2 + 3*x - 4\n",
        "print(f'where(x = -1)= {fx_at_1}')\n"
      ],
      "metadata": {
        "colab": {
          "base_uri": "https://localhost:8080/"
        },
        "id": "aenhX5hzEW07",
        "outputId": "cf1c7c7f-b15c-4df8-bdba-59ef821bc7ac"
      },
      "execution_count": null,
      "outputs": [
        {
          "output_type": "stream",
          "name": "stdout",
          "text": [
            "where(x = -1)= 0\n"
          ]
        }
      ]
    },
    {
      "cell_type": "markdown",
      "source": [
        "Return the boolean for each value of  𝑥  to find out whether that value is a root of  𝑓(𝑥)"
      ],
      "metadata": {
        "id": "L6F-egNEEtXt"
      }
    },
    {
      "cell_type": "code",
      "source": [
        "fx_at_2==0"
      ],
      "metadata": {
        "colab": {
          "base_uri": "https://localhost:8080/"
        },
        "id": "RC4b03kCE4yb",
        "outputId": "1194b133-5f1f-49e5-d7a5-e679f27b734a"
      },
      "execution_count": null,
      "outputs": [
        {
          "output_type": "execute_result",
          "data": {
            "text/plain": [
              "False"
            ]
          },
          "metadata": {},
          "execution_count": 11
        }
      ]
    },
    {
      "cell_type": "code",
      "source": [
        "fx_at_minus1==0"
      ],
      "metadata": {
        "colab": {
          "base_uri": "https://localhost:8080/"
        },
        "id": "XV_Ean-qE7aR",
        "outputId": "e090d27e-a071-440c-cc4c-9efd0f9fb6ad"
      },
      "execution_count": null,
      "outputs": [
        {
          "output_type": "execute_result",
          "data": {
            "text/plain": [
              "False"
            ]
          },
          "metadata": {},
          "execution_count": 12
        }
      ]
    },
    {
      "cell_type": "code",
      "source": [
        "fx_at_1==0"
      ],
      "metadata": {
        "colab": {
          "base_uri": "https://localhost:8080/"
        },
        "id": "ogr3pLWKE-75",
        "outputId": "e27edd6d-de7b-44b1-ee30-9ac0b2700c8c"
      },
      "execution_count": null,
      "outputs": [
        {
          "output_type": "execute_result",
          "data": {
            "text/plain": [
              "True"
            ]
          },
          "metadata": {},
          "execution_count": 14
        }
      ]
    },
    {
      "cell_type": "markdown",
      "source": [
        "Problem 3\n",
        "\n",
        "A bag contains 45 apples, 65 oranges and 30 bananas. Find the percentage of each type of food items in the bag."
      ],
      "metadata": {
        "id": "9iUdh00TFlFm"
      }
    },
    {
      "cell_type": "code",
      "source": [
        "apples = 45\n",
        "oranges = 65\n",
        "bananas = 30\n"
      ],
      "metadata": {
        "id": "uxGG_ORgFmam"
      },
      "execution_count": 11,
      "outputs": []
    },
    {
      "cell_type": "code",
      "source": [
        "# apple perecentage\n",
        "total = apples+oranges+bananas\n",
        "percentage_apples = apples/total*100\n",
        "percentage_apples"
      ],
      "metadata": {
        "colab": {
          "base_uri": "https://localhost:8080/"
        },
        "id": "XAuV7SdzxeCF",
        "outputId": "e350e22f-9f44-489f-a2cc-fd8a24cc0479"
      },
      "execution_count": 12,
      "outputs": [
        {
          "output_type": "execute_result",
          "data": {
            "text/plain": [
              "32.142857142857146"
            ]
          },
          "metadata": {},
          "execution_count": 12
        }
      ]
    },
    {
      "cell_type": "code",
      "source": [
        "# Oranges percentage\n",
        "percentage_orange = oranges/total*100\n",
        "percentage_orange"
      ],
      "metadata": {
        "colab": {
          "base_uri": "https://localhost:8080/"
        },
        "id": "Mv-USDxRyNtF",
        "outputId": "c4350e88-8d24-4571-e93a-2be569404727"
      },
      "execution_count": 13,
      "outputs": [
        {
          "output_type": "execute_result",
          "data": {
            "text/plain": [
              "46.42857142857143"
            ]
          },
          "metadata": {},
          "execution_count": 13
        }
      ]
    },
    {
      "cell_type": "code",
      "source": [
        "# bananas percentage\n",
        "percentage_banana = bananas/total*100\n",
        "percentage_banana"
      ],
      "metadata": {
        "colab": {
          "base_uri": "https://localhost:8080/"
        },
        "id": "xW-EXUPny1Lx",
        "outputId": "a9a50451-4f27-4708-8296-14bcbda8bcb6"
      },
      "execution_count": 14,
      "outputs": [
        {
          "output_type": "execute_result",
          "data": {
            "text/plain": [
              "21.428571428571427"
            ]
          },
          "metadata": {},
          "execution_count": 14
        }
      ]
    },
    {
      "cell_type": "markdown",
      "source": [
        "Problem 4\n",
        "\n",
        "You were playing a fun guessing game during your school break. There were a total of 100 participants excluding you. Out of these 100 people, 30 were Maths Majors, 45 were Economics Majors and 25 were Physics Majors.\n",
        "\n",
        "The game was divided into three rounds.\n",
        "\n",
        "In the first round, you had to guess the number of Maths Majors and you correctly guessed 20 of them.\n",
        "\n",
        "In the second round, you had to guess the number of Economics Majors and you correctly guessed 30 of them.\n",
        "\n",
        "In the final third round, you had to guess the number of Physics Majors and you correctly guessed 20 of them.\n",
        "\n",
        "Accuracy is defined as the number of correct guesses upon total number of people in the group (expressed in percentage)"
      ],
      "metadata": {
        "id": "sFfWcshQzSIV"
      }
    },
    {
      "cell_type": "code",
      "source": [
        "maths_major = 30\n",
        "economics_major = 45\n",
        "physics_major = 25\n",
        "guessed_maths_major = 20\n",
        "guessed_economics_major = 30\n",
        "guessed_physics_major = 20\n",
        "\n",
        "majors = maths_major+economics_major+physics_major\n",
        "correct_guesses = guessed_maths_major+guessed_economics_major+guessed_physics_major\n",
        "\n"
      ],
      "metadata": {
        "id": "w4SaL4MrzZw4"
      },
      "execution_count": 26,
      "outputs": []
    },
    {
      "cell_type": "code",
      "source": [
        "# maths accuracy\n",
        "maths_accuracy = guessed_maths_major/maths_major*100\n",
        "maths_accuracy"
      ],
      "metadata": {
        "colab": {
          "base_uri": "https://localhost:8080/"
        },
        "id": "TsJA7jNX0QKx",
        "outputId": "c096d87a-f1bd-4469-9c79-ef0c0c2532a2"
      },
      "execution_count": 27,
      "outputs": [
        {
          "output_type": "execute_result",
          "data": {
            "text/plain": [
              "66.66666666666666"
            ]
          },
          "metadata": {},
          "execution_count": 27
        }
      ]
    },
    {
      "cell_type": "code",
      "source": [
        "# physics accuracy\n",
        "physics_accuracy = guessed_physics_major/physics_major*100\n",
        "physics_accuracy"
      ],
      "metadata": {
        "colab": {
          "base_uri": "https://localhost:8080/"
        },
        "id": "CR9bpq4S0W_h",
        "outputId": "2e605134-357c-4cb5-8ed2-9914440e6db3"
      },
      "execution_count": 28,
      "outputs": [
        {
          "output_type": "execute_result",
          "data": {
            "text/plain": [
              "80.0"
            ]
          },
          "metadata": {},
          "execution_count": 28
        }
      ]
    },
    {
      "cell_type": "code",
      "source": [
        "# Economics accuracy\n",
        "economics_accuracy = guessed_economics_major/economics_major*100\n",
        "economics_accuracy"
      ],
      "metadata": {
        "colab": {
          "base_uri": "https://localhost:8080/"
        },
        "id": "BgyN_6zZ0jOy",
        "outputId": "3bd74a97-8e8f-428c-ab8d-e62e24d4fa51"
      },
      "execution_count": 29,
      "outputs": [
        {
          "output_type": "execute_result",
          "data": {
            "text/plain": [
              "66.66666666666666"
            ]
          },
          "metadata": {},
          "execution_count": 29
        }
      ]
    },
    {
      "cell_type": "code",
      "source": [
        "Total_accuracy = correct_guesses/majors*100\n",
        "Total_accuracy"
      ],
      "metadata": {
        "colab": {
          "base_uri": "https://localhost:8080/"
        },
        "id": "at6D_ZbR1tMb",
        "outputId": "a011a47e-d5b9-4536-a03b-be8f8d09ef86"
      },
      "execution_count": 30,
      "outputs": [
        {
          "output_type": "execute_result",
          "data": {
            "text/plain": [
              "70.0"
            ]
          },
          "metadata": {},
          "execution_count": 30
        }
      ]
    }
  ]
}